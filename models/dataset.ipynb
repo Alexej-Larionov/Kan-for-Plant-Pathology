{
 "cells": [
  {
   "cell_type": "code",
   "execution_count": 1,
   "id": "d94174bf",
   "metadata": {},
   "outputs": [
    {
     "name": "stdout",
     "output_type": "stream",
     "text": [
      "Аннотации: Index(['file_name', 'healthy', 'pear_slug', 'leaf_spot', 'curl', 'severity_0',\n",
      "       'severity_1', 'severity_2', 'severity_3', 'severity_4'],\n",
      "      dtype='object')\n",
      "Изображения: Index(['image_path', 'file_name'], dtype='object')\n",
      "  file_name  healthy  pear_slug  leaf_spot  curl severity_0 severity_1  \\\n",
      "0    u2.jpg        0          0          1     0          0          1   \n",
      "1    u4.jpg        0          0          1     0          0          1   \n",
      "2    u6.jpg        0          0          1     0          0          1   \n",
      "3    u8.jpg        0          0          1     0          0          0   \n",
      "4   u10.jpg        0          0          1     0          0          1   \n",
      "\n",
      "  severity_2 severity_3 severity_4                        image_path  \n",
      "0          0          0          0   Pear/Pear/leaves/resized/u2.jpg  \n",
      "1          0          0          0   Pear/Pear/leaves/resized/u4.jpg  \n",
      "2          0          0          0   Pear/Pear/leaves/resized/u6.jpg  \n",
      "3          1          0          0   Pear/Pear/leaves/resized/u8.jpg  \n",
      "4          0          0          0  Pear/Pear/leaves/resized/u10.jpg  \n"
     ]
    }
   ],
   "source": [
    "import pandas as pd\n",
    "import torch\n",
    "from torch.utils.data import Dataset, DataLoader\n",
    "from PIL import Image\n",
    "import os\n",
    "\n",
    "annotations_csv = r\"/mnt/e/AI_stuff/Plant pathology explainability with KAN and CNN/Kan-for-Plant-Pathology/Pear/Pear/annotation/csv/diaMOSPlant.csv\"   \n",
    "images_csv = r\"/mnt/e/AI_stuff/Plant pathology explainability with KAN and CNN/Kan-for-Plant-Pathology/Pear/Pear/leaves/images.csv\"             \n",
    "\n",
    "\n",
    "df_ann = pd.read_csv(annotations_csv, sep=\";\")\n",
    "df_img = pd.read_csv(images_csv)\n",
    "\n",
    "print(\"Аннотации:\", df_ann.columns)\n",
    "print(\"Изображения:\", df_img.columns)\n",
    "\n",
    "df_merged = pd.merge(df_ann, df_img, on=\"file_name\", how=\"inner\")\n",
    "\n",
    "print(df_merged.head())"
   ]
  },
  {
   "cell_type": "code",
   "execution_count": 2,
   "id": "486f1ed7",
   "metadata": {},
   "outputs": [],
   "source": [
    "import os\n",
    "\n",
    "root_dir = \"/mnt/e/AI_stuff/Plant pathology explainability with KAN and CNN/Kan-for-Plant-Pathology\"\n",
    "\n",
    "df_merged[\"image_path\"] = df_merged[\"image_path\"].apply(lambda p: os.path.join(root_dir, p) if not os.path.isabs(p) else p)"
   ]
  },
  {
   "cell_type": "code",
   "execution_count": 3,
   "id": "a739daff",
   "metadata": {},
   "outputs": [],
   "source": [
    "df_merged.to_pickle(root_dir+\"/diamos.pkl\")"
   ]
  }
 ],
 "metadata": {
  "kernelspec": {
   "display_name": ".venv",
   "language": "python",
   "name": "python3"
  },
  "language_info": {
   "codemirror_mode": {
    "name": "ipython",
    "version": 3
   },
   "file_extension": ".py",
   "mimetype": "text/x-python",
   "name": "python",
   "nbconvert_exporter": "python",
   "pygments_lexer": "ipython3",
   "version": "3.10.12"
  }
 },
 "nbformat": 4,
 "nbformat_minor": 5
}
